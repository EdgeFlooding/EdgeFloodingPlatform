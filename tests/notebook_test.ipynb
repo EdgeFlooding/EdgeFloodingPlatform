{
 "cells": [
  {
   "cell_type": "code",
   "execution_count": 6,
   "metadata": {},
   "outputs": [],
   "source": [
    "# For running inference on the TF-Hub module.\n",
    "import tensorflow as tf\n",
    "import tensorflow_hub as hub\n",
    "\n",
    "import grpc\n",
    "from concurrent import futures\n",
    "# import the generated classes\n",
    "import handle_new_frame_pb2\n",
    "import handle_new_frame_pb2_grpc\n",
    "import base64\n",
    "\n",
    "# For downloading the image.\n",
    "import matplotlib.pyplot as plt\n",
    "\n",
    "# For drawing onto the image.\n",
    "import numpy as np\n",
    "from PIL import Image\n",
    "from PIL import ImageColor\n",
    "from PIL import ImageDraw\n",
    "from PIL import ImageFont\n",
    "from PIL import ImageOps\n",
    "\n",
    "import time\n",
    "import threading\n",
    "import sys\n",
    "import psutil\n",
    "import logging\n",
    "import cv2"
   ]
  },
  {
   "cell_type": "code",
   "execution_count": 4,
   "metadata": {},
   "outputs": [],
   "source": [
    "def save_image(image, image_name):\n",
    "    Image.fromarray(image).save(image_name)\n",
    "\n",
    "def resize_image(raw_frame, new_width, new_height):\n",
    "\n",
    "    pil_image = Image.fromarray(np.uint8(raw_frame))\n",
    "    pil_image = ImageOps.fit(pil_image, (new_width, new_height), Image.ANTIALIAS)\n",
    "    pil_image_rgb = pil_image.convert(\"RGB\")\n",
    "\n",
    "    img = tf.convert_to_tensor(pil_image_rgb, dtype=tf.uint8)\n",
    "    converted_img  = tf.image.convert_image_dtype(img, tf.float32)[tf.newaxis, ...]\n",
    "\n",
    "    return converted_img\n"
   ]
  },
  {
   "cell_type": "code",
   "execution_count": 15,
   "metadata": {},
   "outputs": [
    {
     "name": "stdout",
     "output_type": "stream",
     "text": [
      "<class 'tensorflow.python.framework.ops.EagerTensor'>\n",
      "<class 'numpy.ndarray'>\n",
      "(352, 640, 3)\n",
      "<class 'numpy.ndarray'>\n",
      "(1, 856, 1280, 3)\n"
     ]
    }
   ],
   "source": [
    "video_path = '../videos/Rec_20200125_170152_211_S.mp4'\n",
    "\n",
    "# Define a video capture object\n",
    "cap = cv2.VideoCapture(video_path)\n",
    "\n",
    "\n",
    "ret, frame = cap.read()\n",
    "\n",
    "img = resize_image(frame, 1280, 856)\n",
    "\n",
    "\n",
    "print(type(img))\n",
    "print(type(frame))\n",
    "print(frame.shape)\n",
    "\n",
    "boh = img.numpy()\n",
    "boh.reshape(856, 1280, 3)\n",
    "print(type(boh))\n",
    "print(boh.shape)\n",
    "#save_image(img.numpy(), \"tensore_salvato.jpg\")\n",
    "\n",
    "cap.release()"
   ]
  },
  {
   "cell_type": "code",
   "execution_count": 4,
   "metadata": {},
   "outputs": [
    {
     "name": "stdout",
     "output_type": "stream",
     "text": [
      "Non è nel range\n",
      "1\n",
      "2\n",
      "3\n",
      "4\n",
      "5\n"
     ]
    }
   ],
   "source": [
    "i = 5\n",
    "\n",
    "if i not in range(1, 5):\n",
    "    print(\"Non è nel range\")\n",
    "\n",
    "else:\n",
    "    print(\"E' nel range\")\n",
    "\n",
    "\n",
    "for j in range(1, i + 1):\n",
    "    print(j)"
   ]
  }
 ],
 "metadata": {
  "interpreter": {
   "hash": "c7a650d791d0a1d035b66682f8967f04fed3045153a1ba3c3bfeefd2541b18a6"
  },
  "kernelspec": {
   "display_name": "Python 3.8.10 64-bit",
   "language": "python",
   "name": "python3"
  },
  "language_info": {
   "codemirror_mode": {
    "name": "ipython",
    "version": 3
   },
   "file_extension": ".py",
   "mimetype": "text/x-python",
   "name": "python",
   "nbconvert_exporter": "python",
   "pygments_lexer": "ipython3",
   "version": "3.8.10"
  },
  "orig_nbformat": 4
 },
 "nbformat": 4,
 "nbformat_minor": 2
}
